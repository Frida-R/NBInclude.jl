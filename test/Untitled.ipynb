{
 "cells": [
  {
   "cell_type": "code",
   "execution_count": 43,
   "metadata": {
    "collapsed": false
   },
   "outputs": [
    {
     "data": {
      "text/plain": [
       "Dict{AbstractString,Any} with 4 entries:\n",
       "  \"cells\"          => Any[Dict{AbstractString,Any}(\"cell_type\"=>\"markdown\",\"sou…\n",
       "  \"nbformat_minor\" => 0\n",
       "  \"metadata\"       => Dict{AbstractString,Any}(\"language_info\"=>Dict{AbstractSt…\n",
       "  \"nbformat\"       => 4"
      ]
     },
     "execution_count": 43,
     "metadata": {},
     "output_type": "execute_result"
    }
   ],
   "source": [
    "using JSON\n",
    "nb = open(JSON.parse, \"test.ipynb\", \"r\")"
   ]
  },
  {
   "cell_type": "code",
   "execution_count": 25,
   "metadata": {
    "collapsed": false
   },
   "outputs": [
    {
     "data": {
      "text/plain": [
       "true"
      ]
     },
     "execution_count": 25,
     "metadata": {},
     "output_type": "execute_result"
    }
   ],
   "source": [
    "nb[\"nbformat\"] >= 4"
   ]
  },
  {
   "cell_type": "code",
   "execution_count": 26,
   "metadata": {
    "collapsed": false
   },
   "outputs": [
    {
     "data": {
      "text/plain": [
       "\"julia\""
      ]
     },
     "execution_count": 26,
     "metadata": {},
     "output_type": "execute_result"
    }
   ],
   "source": [
    "nb[\"metadata\"][\"language_info\"][\"name\"]"
   ]
  },
  {
   "cell_type": "code",
   "execution_count": 46,
   "metadata": {
    "collapsed": false
   },
   "outputs": [
    {
     "data": {
      "text/plain": [
       "Dict{AbstractString,Any} with 5 entries:\n",
       "  \"outputs\"         => Any[Dict{AbstractString,Any}(\"output_type\"=>\"execute_res…\n",
       "  \"cell_type\"       => \"code\"\n",
       "  \"source\"          => Any[\"f(3)\"]\n",
       "  \"metadata\"        => Dict{AbstractString,Any}(\"collapsed\"=>false)\n",
       "  \"execution_count\" => 2"
      ]
     },
     "execution_count": 46,
     "metadata": {},
     "output_type": "execute_result"
    }
   ],
   "source": [
    "nb[\"cells\"][3]"
   ]
  },
  {
   "cell_type": "code",
   "execution_count": 32,
   "metadata": {
    "collapsed": false
   },
   "outputs": [
    {
     "data": {
      "text/plain": [
       "\"foobar\""
      ]
     },
     "execution_count": 32,
     "metadata": {},
     "output_type": "execute_result"
    }
   ],
   "source": [
    "join([\"foo\", \"bar\"])"
   ]
  },
  {
   "cell_type": "code",
   "execution_count": 31,
   "metadata": {
    "collapsed": false
   },
   "outputs": [
    {
     "name": "stdout",
     "output_type": "stream",
     "text": [
      "search: "
     ]
    },
    {
     "data": {
      "text/latex": [
       "\\begin{verbatim}\n",
       "join(strings, delim, [last])\n",
       "\\end{verbatim}\n",
       "Join an array of \\texttt{strings} into a single string, inserting the given delimiter between adjacent strings. If \\texttt{last} is given, it will be used instead of \\texttt{delim} between the last two strings. For example, \\texttt{join([\"apples\", \"bananas\", \"pineapples\"], \", \", \" and \") == \"apples, bananas and pineapples\"}.\n",
       "\\texttt{strings} can be any iterable over elements \\texttt{x} which are convertible to strings via \\texttt{print(io::IOBuffer, x)}.\n"
      ],
      "text/markdown": [
       "```\n",
       "join(strings, delim, [last])\n",
       "```\n",
       "\n",
       "Join an array of `strings` into a single string, inserting the given delimiter between adjacent strings. If `last` is given, it will be used instead of `delim` between the last two strings. For example, `join([\"apples\", \"bananas\", \"pineapples\"], \", \", \" and \") == \"apples, bananas and pineapples\"`.\n",
       "\n",
       "`strings` can be any iterable over elements `x` which are convertible to strings via `print(io::IOBuffer, x)`.\n"
      ],
      "text/plain": [
       "```\n",
       "join(strings, delim, [last])\n",
       "```\n",
       "\n",
       "Join an array of `strings` into a single string, inserting the given delimiter between adjacent strings. If `last` is given, it will be used instead of `delim` between the last two strings. For example, `join([\"apples\", \"bananas\", \"pineapples\"], \", \", \" and \") == \"apples, bananas and pineapples\"`.\n",
       "\n",
       "`strings` can be any iterable over elements `x` which are convertible to strings via `print(io::IOBuffer, x)`.\n"
      ]
     },
     "execution_count": 31,
     "metadata": {},
     "output_type": "execute_result"
    },
    {
     "name": "stdout",
     "output_type": "stream",
     "text": [
      "join joinpath typejoin print_joined\n",
      "\n"
     ]
    }
   ],
   "source": []
  },
  {
   "cell_type": "code",
   "execution_count": 33,
   "metadata": {
    "collapsed": false
   },
   "outputs": [
    {
     "name": "stdout",
     "output_type": "stream",
     "text": [
      "search: "
     ]
    },
    {
     "data": {
      "text/latex": [
       "\\begin{verbatim}\n",
       "strip(string, [chars])\n",
       "\\end{verbatim}\n",
       "Return \\texttt{string} with any leading and trailing whitespace removed. If \\texttt{chars} (a character, or vector or set of characters) is provided, instead remove characters contained in it.\n"
      ],
      "text/markdown": [
       "```\n",
       "strip(string, [chars])\n",
       "```\n",
       "\n",
       "Return `string` with any leading and trailing whitespace removed. If `chars` (a character, or vector or set of characters) is provided, instead remove characters contained in it.\n"
      ],
      "text/plain": [
       "```\n",
       "strip(string, [chars])\n",
       "```\n",
       "\n",
       "Return `string` with any leading and trailing whitespace removed. If `chars` (a character, or vector or set of characters) is provided, instead remove characters contained in it.\n"
      ]
     },
     "execution_count": 33,
     "metadata": {},
     "output_type": "execute_result"
    },
    {
     "name": "stdout",
     "output_type": "stream",
     "text": [
      "strip rstrip lstrip stride string strides stringmime StridedArray\n",
      "\n"
     ]
    }
   ],
   "source": [
    "?strip"
   ]
  },
  {
   "cell_type": "code",
   "execution_count": 34,
   "metadata": {
    "collapsed": false
   },
   "outputs": [
    {
     "data": {
      "text/plain": [
       "\"\""
      ]
     },
     "execution_count": 34,
     "metadata": {},
     "output_type": "execute_result"
    }
   ],
   "source": [
    "strip(\"  \\n  \")"
   ]
  },
  {
   "cell_type": "code",
   "execution_count": 35,
   "metadata": {
    "collapsed": false
   },
   "outputs": [
    {
     "name": "stdout",
     "output_type": "stream",
     "text": [
      "search: "
     ]
    },
    {
     "data": {
      "text/latex": [
       "\\begin{verbatim}\n",
       "include_string(code::AbstractString, [filename])\n",
       "\\end{verbatim}\n",
       "Like \\texttt{include}, except reads code from the given string rather than from a file. Since there is no file path involved, no path processing or fetching from node 1 is done.\n"
      ],
      "text/markdown": [
       "```\n",
       "include_string(code::AbstractString, [filename])\n",
       "```\n",
       "\n",
       "Like `include`, except reads code from the given string rather than from a file. Since there is no file path involved, no path processing or fetching from node 1 is done.\n"
      ],
      "text/plain": [
       "```\n",
       "include_string(code::AbstractString, [filename])\n",
       "```\n",
       "\n",
       "Like `include`, except reads code from the given string rather than from a file. Since there is no file path involved, no path processing or fetching from node 1 is done.\n"
      ]
     },
     "execution_count": 35,
     "metadata": {},
     "output_type": "execute_result"
    },
    {
     "name": "stdout",
     "output_type": "stream",
     "text": [
      "include_string\n",
      "\n"
     ]
    }
   ],
   "source": [
    "?include_string"
   ]
  },
  {
   "cell_type": "code",
   "execution_count": 39,
   "metadata": {
    "collapsed": false
   },
   "outputs": [
    {
     "data": {
      "text/plain": [
       "\"\""
      ]
     },
     "execution_count": 39,
     "metadata": {},
     "output_type": "execute_result"
    }
   ],
   "source": [
    "include_string(\"macroexpand(:(@__FILE__))\", \"foo/bar.jl\")"
   ]
  },
  {
   "cell_type": "code",
   "execution_count": 40,
   "metadata": {
    "collapsed": false
   },
   "outputs": [
    {
     "data": {
      "text/plain": [
       "\"+3\""
      ]
     },
     "execution_count": 40,
     "metadata": {},
     "output_type": "execute_result"
    }
   ],
   "source": [
    "string(+,3)"
   ]
  },
  {
   "cell_type": "code",
   "execution_count": 42,
   "metadata": {
    "collapsed": false
   },
   "outputs": [
    {
     "data": {
      "text/html": [
       "join(args...) at <a href=\"https://github.com/JuliaLang/julia/tree/2109ecc78cc8f7fe68bc1aa0093f1d3189b3cbef/base/strings/io.jl#L104\" target=\"_blank\">strings/io.jl:104</a>"
      ],
      "text/plain": [
       "join(args...) at strings/io.jl:104"
      ]
     },
     "execution_count": 42,
     "metadata": {},
     "output_type": "execute_result"
    }
   ],
   "source": [
    "@which join(\"foo\")"
   ]
  },
  {
   "cell_type": "code",
   "execution_count": null,
   "metadata": {
    "collapsed": true
   },
   "outputs": [],
   "source": []
  }
 ],
 "metadata": {
  "kernelspec": {
   "display_name": "Julia 0.5.0-dev",
   "language": "julia",
   "name": "julia-0.5"
  },
  "language_info": {
   "file_extension": ".jl",
   "mimetype": "application/julia",
   "name": "julia",
   "version": "0.5.0"
  }
 },
 "nbformat": 4,
 "nbformat_minor": 0
}
